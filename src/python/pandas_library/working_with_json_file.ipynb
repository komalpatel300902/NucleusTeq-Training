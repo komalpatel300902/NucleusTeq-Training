{
 "cells": [
  {
   "cell_type": "code",
   "execution_count": 6,
   "id": "6d2c0d43",
   "metadata": {},
   "outputs": [],
   "source": [
    "import pandas as pd\n",
    "import numpy as np\n",
    "import json"
   ]
  },
  {
   "cell_type": "code",
   "execution_count": 7,
   "id": "f56ba6ff",
   "metadata": {},
   "outputs": [],
   "source": [
    "with open(\"package.json\") as jsonfile:\n",
    "    data = json.load(jsonfile)\n",
    "#     df = pd.DataFrame([data])"
   ]
  },
  {
   "cell_type": "code",
   "execution_count": 11,
   "id": "75c72ae4",
   "metadata": {},
   "outputs": [
    {
     "data": {
      "text/plain": [
       "{'name': 'node-convict',\n",
       " 'private': True,\n",
       " 'scripts': {'test': 'jest',\n",
       "  'posttest': 'npm run lint',\n",
       "  'pretest:ci': 'npm run lint',\n",
       "  'test:ci': 'npm run test:coverage -- --coverageReporters=text-lcov | coveralls',\n",
       "  'test:coverage': 'jest --coverage',\n",
       "  'lint': \"eslint --ignore-pattern='!.*.js' .\",\n",
       "  'lint:fix': \"eslint --fix --ignore-pattern='!.*.js' .\"},\n",
       " 'workspaces': ['packages/convict',\n",
       "  'packages/convict-format-with-validator',\n",
       "  'packages/convict-format-with-moment'],\n",
       " 'devDependencies': {'@lerna-lite/cli': '1.1.1',\n",
       "  'coveralls': '^3.1.0',\n",
       "  'deep-object-diff': '^1.1.0',\n",
       "  'eslint': '^7.26.0',\n",
       "  'jest': '^26.6.3',\n",
       "  'js-yaml': '^4.1.0',\n",
       "  'json5': '^2.2.0',\n",
       "  'toml': '^3.0.0'}}"
      ]
     },
     "execution_count": 11,
     "metadata": {},
     "output_type": "execute_result"
    }
   ],
   "source": [
    "data"
   ]
  },
  {
   "cell_type": "code",
   "execution_count": 13,
   "id": "a35e270c",
   "metadata": {},
   "outputs": [
    {
     "data": {
      "text/plain": [
       "{'test': 'jest',\n",
       " 'posttest': 'npm run lint',\n",
       " 'pretest:ci': 'npm run lint',\n",
       " 'test:ci': 'npm run test:coverage -- --coverageReporters=text-lcov | coveralls',\n",
       " 'test:coverage': 'jest --coverage',\n",
       " 'lint': \"eslint --ignore-pattern='!.*.js' .\",\n",
       " 'lint:fix': \"eslint --fix --ignore-pattern='!.*.js' .\"}"
      ]
     },
     "execution_count": 13,
     "metadata": {},
     "output_type": "execute_result"
    }
   ],
   "source": [
    "data[\"scripts\"]"
   ]
  },
  {
   "cell_type": "code",
   "execution_count": 20,
   "id": "c9f1a80a",
   "metadata": {},
   "outputs": [
    {
     "name": "stdout",
     "output_type": "stream",
     "text": [
      "[{'name': 'node-convict', 'private': True, 'scripts': {'test': 'jest', 'posttest': 'npm run lint', 'pretest:ci': 'npm run lint', 'test:ci': 'npm run test:coverage -- --coverageReporters=text-lcov | coveralls', 'test:coverage': 'jest --coverage', 'lint': \"eslint --ignore-pattern='!.*.js' .\", 'lint:fix': \"eslint --fix --ignore-pattern='!.*.js' .\"}, 'workspaces': ['packages/convict', 'packages/convict-format-with-validator', 'packages/convict-format-with-moment'], 'devDependencies': {'@lerna-lite/cli': '1.1.1', 'coveralls': '^3.1.0', 'deep-object-diff': '^1.1.0', 'eslint': '^7.26.0', 'jest': '^26.6.3', 'js-yaml': '^4.1.0', 'json5': '^2.2.0', 'toml': '^3.0.0'}}]\n"
     ]
    }
   ],
   "source": [
    "print([data])"
   ]
  },
  {
   "cell_type": "code",
   "execution_count": 22,
   "id": "4d2fbb15",
   "metadata": {},
   "outputs": [],
   "source": [
    "df = pd.DataFrame([data])"
   ]
  },
  {
   "cell_type": "code",
   "execution_count": 23,
   "id": "c9422965",
   "metadata": {},
   "outputs": [
    {
     "data": {
      "text/html": [
       "<div>\n",
       "<style scoped>\n",
       "    .dataframe tbody tr th:only-of-type {\n",
       "        vertical-align: middle;\n",
       "    }\n",
       "\n",
       "    .dataframe tbody tr th {\n",
       "        vertical-align: top;\n",
       "    }\n",
       "\n",
       "    .dataframe thead th {\n",
       "        text-align: right;\n",
       "    }\n",
       "</style>\n",
       "<table border=\"1\" class=\"dataframe\">\n",
       "  <thead>\n",
       "    <tr style=\"text-align: right;\">\n",
       "      <th></th>\n",
       "      <th>name</th>\n",
       "      <th>private</th>\n",
       "      <th>scripts</th>\n",
       "      <th>workspaces</th>\n",
       "      <th>devDependencies</th>\n",
       "    </tr>\n",
       "  </thead>\n",
       "  <tbody>\n",
       "    <tr>\n",
       "      <th>0</th>\n",
       "      <td>node-convict</td>\n",
       "      <td>True</td>\n",
       "      <td>{'test': 'jest', 'posttest': 'npm run lint', '...</td>\n",
       "      <td>[packages/convict, packages/convict-format-wit...</td>\n",
       "      <td>{'@lerna-lite/cli': '1.1.1', 'coveralls': '^3....</td>\n",
       "    </tr>\n",
       "  </tbody>\n",
       "</table>\n",
       "</div>"
      ],
      "text/plain": [
       "           name  private                                            scripts  \\\n",
       "0  node-convict     True  {'test': 'jest', 'posttest': 'npm run lint', '...   \n",
       "\n",
       "                                          workspaces  \\\n",
       "0  [packages/convict, packages/convict-format-wit...   \n",
       "\n",
       "                                     devDependencies  \n",
       "0  {'@lerna-lite/cli': '1.1.1', 'coveralls': '^3....  "
      ]
     },
     "execution_count": 23,
     "metadata": {},
     "output_type": "execute_result"
    }
   ],
   "source": [
    "df"
   ]
  },
  {
   "cell_type": "markdown",
   "id": "7e9fccc5",
   "metadata": {},
   "source": [
    "### Using pd.json_normalize() function"
   ]
  },
  {
   "cell_type": "code",
   "execution_count": 25,
   "id": "f9abbf50",
   "metadata": {},
   "outputs": [
    {
     "data": {
      "text/html": [
       "<div>\n",
       "<style scoped>\n",
       "    .dataframe tbody tr th:only-of-type {\n",
       "        vertical-align: middle;\n",
       "    }\n",
       "\n",
       "    .dataframe tbody tr th {\n",
       "        vertical-align: top;\n",
       "    }\n",
       "\n",
       "    .dataframe thead th {\n",
       "        text-align: right;\n",
       "    }\n",
       "</style>\n",
       "<table border=\"1\" class=\"dataframe\">\n",
       "  <thead>\n",
       "    <tr style=\"text-align: right;\">\n",
       "      <th></th>\n",
       "      <th>name</th>\n",
       "      <th>private</th>\n",
       "      <th>workspaces</th>\n",
       "      <th>scripts.test</th>\n",
       "      <th>scripts.posttest</th>\n",
       "      <th>scripts.pretest:ci</th>\n",
       "      <th>scripts.test:ci</th>\n",
       "      <th>scripts.test:coverage</th>\n",
       "      <th>scripts.lint</th>\n",
       "      <th>scripts.lint:fix</th>\n",
       "      <th>devDependencies.@lerna-lite/cli</th>\n",
       "      <th>devDependencies.coveralls</th>\n",
       "      <th>devDependencies.deep-object-diff</th>\n",
       "      <th>devDependencies.eslint</th>\n",
       "      <th>devDependencies.jest</th>\n",
       "      <th>devDependencies.js-yaml</th>\n",
       "      <th>devDependencies.json5</th>\n",
       "      <th>devDependencies.toml</th>\n",
       "    </tr>\n",
       "  </thead>\n",
       "  <tbody>\n",
       "    <tr>\n",
       "      <th>0</th>\n",
       "      <td>node-convict</td>\n",
       "      <td>True</td>\n",
       "      <td>[packages/convict, packages/convict-format-wit...</td>\n",
       "      <td>jest</td>\n",
       "      <td>npm run lint</td>\n",
       "      <td>npm run lint</td>\n",
       "      <td>npm run test:coverage -- --coverageReporters=t...</td>\n",
       "      <td>jest --coverage</td>\n",
       "      <td>eslint --ignore-pattern='!.*.js' .</td>\n",
       "      <td>eslint --fix --ignore-pattern='!.*.js' .</td>\n",
       "      <td>1.1.1</td>\n",
       "      <td>^3.1.0</td>\n",
       "      <td>^1.1.0</td>\n",
       "      <td>^7.26.0</td>\n",
       "      <td>^26.6.3</td>\n",
       "      <td>^4.1.0</td>\n",
       "      <td>^2.2.0</td>\n",
       "      <td>^3.0.0</td>\n",
       "    </tr>\n",
       "  </tbody>\n",
       "</table>\n",
       "</div>"
      ],
      "text/plain": [
       "           name  private                                         workspaces  \\\n",
       "0  node-convict     True  [packages/convict, packages/convict-format-wit...   \n",
       "\n",
       "  scripts.test scripts.posttest scripts.pretest:ci  \\\n",
       "0         jest     npm run lint       npm run lint   \n",
       "\n",
       "                                     scripts.test:ci scripts.test:coverage  \\\n",
       "0  npm run test:coverage -- --coverageReporters=t...       jest --coverage   \n",
       "\n",
       "                         scripts.lint  \\\n",
       "0  eslint --ignore-pattern='!.*.js' .   \n",
       "\n",
       "                           scripts.lint:fix devDependencies.@lerna-lite/cli  \\\n",
       "0  eslint --fix --ignore-pattern='!.*.js' .                           1.1.1   \n",
       "\n",
       "  devDependencies.coveralls devDependencies.deep-object-diff  \\\n",
       "0                    ^3.1.0                           ^1.1.0   \n",
       "\n",
       "  devDependencies.eslint devDependencies.jest devDependencies.js-yaml  \\\n",
       "0                ^7.26.0              ^26.6.3                  ^4.1.0   \n",
       "\n",
       "  devDependencies.json5 devDependencies.toml  \n",
       "0                ^2.2.0               ^3.0.0  "
      ]
     },
     "execution_count": 25,
     "metadata": {},
     "output_type": "execute_result"
    }
   ],
   "source": [
    "pd.json_normalize([data])"
   ]
  },
  {
   "cell_type": "markdown",
   "id": "5ed88290",
   "metadata": {},
   "source": [
    "## Lets take a json file\n"
   ]
  },
  {
   "cell_type": "code",
   "execution_count": 29,
   "id": "d905be9a",
   "metadata": {},
   "outputs": [
    {
     "data": {
      "text/plain": [
       "{'One': {'0': 60, '1': 60, '2': 60, '3': 45, '4': 45, '5': 60},\n",
       " 'Two': {'0': 110, '1': 117, '2': 103, '3': 109, '4': 117, '5': 102}}"
      ]
     },
     "execution_count": 29,
     "metadata": {},
     "output_type": "execute_result"
    }
   ],
   "source": [
    "with open(\"data.json\") as js:\n",
    "    data = json.load(js)\n",
    "data"
   ]
  },
  {
   "cell_type": "code",
   "execution_count": 30,
   "id": "218adbe5",
   "metadata": {},
   "outputs": [],
   "source": [
    "df = pd.DataFrame(data)"
   ]
  },
  {
   "cell_type": "code",
   "execution_count": 31,
   "id": "b230e85b",
   "metadata": {},
   "outputs": [
    {
     "data": {
      "text/html": [
       "<div>\n",
       "<style scoped>\n",
       "    .dataframe tbody tr th:only-of-type {\n",
       "        vertical-align: middle;\n",
       "    }\n",
       "\n",
       "    .dataframe tbody tr th {\n",
       "        vertical-align: top;\n",
       "    }\n",
       "\n",
       "    .dataframe thead th {\n",
       "        text-align: right;\n",
       "    }\n",
       "</style>\n",
       "<table border=\"1\" class=\"dataframe\">\n",
       "  <thead>\n",
       "    <tr style=\"text-align: right;\">\n",
       "      <th></th>\n",
       "      <th>One</th>\n",
       "      <th>Two</th>\n",
       "    </tr>\n",
       "  </thead>\n",
       "  <tbody>\n",
       "    <tr>\n",
       "      <th>0</th>\n",
       "      <td>60</td>\n",
       "      <td>110</td>\n",
       "    </tr>\n",
       "    <tr>\n",
       "      <th>1</th>\n",
       "      <td>60</td>\n",
       "      <td>117</td>\n",
       "    </tr>\n",
       "    <tr>\n",
       "      <th>2</th>\n",
       "      <td>60</td>\n",
       "      <td>103</td>\n",
       "    </tr>\n",
       "    <tr>\n",
       "      <th>3</th>\n",
       "      <td>45</td>\n",
       "      <td>109</td>\n",
       "    </tr>\n",
       "    <tr>\n",
       "      <th>4</th>\n",
       "      <td>45</td>\n",
       "      <td>117</td>\n",
       "    </tr>\n",
       "    <tr>\n",
       "      <th>5</th>\n",
       "      <td>60</td>\n",
       "      <td>102</td>\n",
       "    </tr>\n",
       "  </tbody>\n",
       "</table>\n",
       "</div>"
      ],
      "text/plain": [
       "   One  Two\n",
       "0   60  110\n",
       "1   60  117\n",
       "2   60  103\n",
       "3   45  109\n",
       "4   45  117\n",
       "5   60  102"
      ]
     },
     "execution_count": 31,
     "metadata": {},
     "output_type": "execute_result"
    }
   ],
   "source": [
    "df"
   ]
  },
  {
   "cell_type": "code",
   "execution_count": 34,
   "id": "06a7c6fe",
   "metadata": {},
   "outputs": [],
   "source": [
    "df2 = pd.read_json(\"data.json\")"
   ]
  },
  {
   "cell_type": "code",
   "execution_count": 35,
   "id": "79257db2",
   "metadata": {},
   "outputs": [
    {
     "data": {
      "text/html": [
       "<div>\n",
       "<style scoped>\n",
       "    .dataframe tbody tr th:only-of-type {\n",
       "        vertical-align: middle;\n",
       "    }\n",
       "\n",
       "    .dataframe tbody tr th {\n",
       "        vertical-align: top;\n",
       "    }\n",
       "\n",
       "    .dataframe thead th {\n",
       "        text-align: right;\n",
       "    }\n",
       "</style>\n",
       "<table border=\"1\" class=\"dataframe\">\n",
       "  <thead>\n",
       "    <tr style=\"text-align: right;\">\n",
       "      <th></th>\n",
       "      <th>One</th>\n",
       "      <th>Two</th>\n",
       "    </tr>\n",
       "  </thead>\n",
       "  <tbody>\n",
       "    <tr>\n",
       "      <th>0</th>\n",
       "      <td>60</td>\n",
       "      <td>110</td>\n",
       "    </tr>\n",
       "    <tr>\n",
       "      <th>1</th>\n",
       "      <td>60</td>\n",
       "      <td>117</td>\n",
       "    </tr>\n",
       "    <tr>\n",
       "      <th>2</th>\n",
       "      <td>60</td>\n",
       "      <td>103</td>\n",
       "    </tr>\n",
       "    <tr>\n",
       "      <th>3</th>\n",
       "      <td>45</td>\n",
       "      <td>109</td>\n",
       "    </tr>\n",
       "    <tr>\n",
       "      <th>4</th>\n",
       "      <td>45</td>\n",
       "      <td>117</td>\n",
       "    </tr>\n",
       "    <tr>\n",
       "      <th>5</th>\n",
       "      <td>60</td>\n",
       "      <td>102</td>\n",
       "    </tr>\n",
       "  </tbody>\n",
       "</table>\n",
       "</div>"
      ],
      "text/plain": [
       "   One  Two\n",
       "0   60  110\n",
       "1   60  117\n",
       "2   60  103\n",
       "3   45  109\n",
       "4   45  117\n",
       "5   60  102"
      ]
     },
     "execution_count": 35,
     "metadata": {},
     "output_type": "execute_result"
    }
   ],
   "source": [
    "df2"
   ]
  },
  {
   "cell_type": "code",
   "execution_count": 38,
   "id": "f56dda1a",
   "metadata": {},
   "outputs": [
    {
     "data": {
      "text/html": [
       "<div>\n",
       "<style scoped>\n",
       "    .dataframe tbody tr th:only-of-type {\n",
       "        vertical-align: middle;\n",
       "    }\n",
       "\n",
       "    .dataframe tbody tr th {\n",
       "        vertical-align: top;\n",
       "    }\n",
       "\n",
       "    .dataframe thead th {\n",
       "        text-align: right;\n",
       "    }\n",
       "</style>\n",
       "<table border=\"1\" class=\"dataframe\">\n",
       "  <thead>\n",
       "    <tr style=\"text-align: right;\">\n",
       "      <th></th>\n",
       "      <th>One.0</th>\n",
       "      <th>One.1</th>\n",
       "      <th>One.2</th>\n",
       "      <th>One.3</th>\n",
       "      <th>One.4</th>\n",
       "      <th>One.5</th>\n",
       "      <th>Two.0</th>\n",
       "      <th>Two.1</th>\n",
       "      <th>Two.2</th>\n",
       "      <th>Two.3</th>\n",
       "      <th>Two.4</th>\n",
       "      <th>Two.5</th>\n",
       "    </tr>\n",
       "  </thead>\n",
       "  <tbody>\n",
       "    <tr>\n",
       "      <th>0</th>\n",
       "      <td>60</td>\n",
       "      <td>60</td>\n",
       "      <td>60</td>\n",
       "      <td>45</td>\n",
       "      <td>45</td>\n",
       "      <td>60</td>\n",
       "      <td>110</td>\n",
       "      <td>117</td>\n",
       "      <td>103</td>\n",
       "      <td>109</td>\n",
       "      <td>117</td>\n",
       "      <td>102</td>\n",
       "    </tr>\n",
       "  </tbody>\n",
       "</table>\n",
       "</div>"
      ],
      "text/plain": [
       "   One.0  One.1  One.2  One.3  One.4  One.5  Two.0  Two.1  Two.2  Two.3  \\\n",
       "0     60     60     60     45     45     60    110    117    103    109   \n",
       "\n",
       "   Two.4  Two.5  \n",
       "0    117    102  "
      ]
     },
     "execution_count": 38,
     "metadata": {},
     "output_type": "execute_result"
    }
   ],
   "source": [
    "pd.json_normalize(data)"
   ]
  },
  {
   "cell_type": "code",
   "execution_count": null,
   "id": "cc01befa",
   "metadata": {},
   "outputs": [],
   "source": []
  }
 ],
 "metadata": {
  "kernelspec": {
   "display_name": "Python 3 (ipykernel)",
   "language": "python",
   "name": "python3"
  },
  "language_info": {
   "codemirror_mode": {
    "name": "ipython",
    "version": 3
   },
   "file_extension": ".py",
   "mimetype": "text/x-python",
   "name": "python",
   "nbconvert_exporter": "python",
   "pygments_lexer": "ipython3",
   "version": "3.11.5"
  }
 },
 "nbformat": 4,
 "nbformat_minor": 5
}
