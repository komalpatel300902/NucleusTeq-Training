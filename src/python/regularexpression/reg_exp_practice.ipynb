{
 "cells": [
  {
   "cell_type": "code",
   "execution_count": 60,
   "id": "bba742cb",
   "metadata": {},
   "outputs": [],
   "source": [
    "import re"
   ]
  },
  {
   "cell_type": "markdown",
   "id": "6f70f192",
   "metadata": {},
   "source": [
    "## Pattern Matching"
   ]
  },
  {
   "cell_type": "code",
   "execution_count": 192,
   "id": "2982e4f6",
   "metadata": {},
   "outputs": [],
   "source": [
    "## This Section holds the script.\n",
    "script1 = \"komal Patel is a Coder. It is a good Proffession.\"\n",
    "script2 = \"12 is a number and it is multiple of 1,2,3,4,6\"\n",
    "script3 = \" This line starts with space.\"\n",
    "script4 = \"komal@gmail.com narami@gmail.com valkari@gmail.com daman@yahoo.com kabir@yahoo.com\"\n",
    "script5 = \"aaaabbbbbbrrrbbbaaaaaa!!!\"\n",
    "script6 = \"rain pain main mundain passion profassion\"\n",
    "script7 = \"         komal\"\n",
    "script8 = \"Henrey23 was the king\""
   ]
  },
  {
   "cell_type": "code",
   "execution_count": 72,
   "id": "f84d62fa",
   "metadata": {},
   "outputs": [
    {
     "name": "stdout",
     "output_type": "stream",
     "text": [
      "<re.Match object; span=(0, 1), match='k'>\n"
     ]
    },
    {
     "data": {
      "text/plain": [
       "'k'"
      ]
     },
     "execution_count": 72,
     "metadata": {},
     "output_type": "execute_result"
    }
   ],
   "source": [
    "### .\n",
    "### syntax : re.match(pattern,text)\n",
    "match = re.match(\".\", script1)\n",
    "print(match)\n",
    "## Accessing element from Match object\n",
    "match[0]"
   ]
  },
  {
   "cell_type": "markdown",
   "id": "96f6b31c",
   "metadata": {},
   "source": [
    "### Metacharacter"
   ]
  },
  {
   "cell_type": "code",
   "execution_count": 76,
   "id": "6d67fca8",
   "metadata": {},
   "outputs": [
    {
     "data": {
      "text/plain": [
       "<re.Match object; span=(0, 0), match=''>"
      ]
     },
     "execution_count": 76,
     "metadata": {},
     "output_type": "execute_result"
    }
   ],
   "source": [
    "### ? for 0 occurnce\n",
    "re.match(\"p?\",script1)"
   ]
  },
  {
   "cell_type": "code",
   "execution_count": 78,
   "id": "edb72ace",
   "metadata": {},
   "outputs": [
    {
     "data": {
      "text/plain": [
       "<re.Match object; span=(0, 2), match='ko'>"
      ]
     },
     "execution_count": 78,
     "metadata": {},
     "output_type": "execute_result"
    }
   ],
   "source": [
    "re.match(\"kol?\",script1)"
   ]
  },
  {
   "cell_type": "code",
   "execution_count": 77,
   "id": "252b5693",
   "metadata": {},
   "outputs": [
    {
     "data": {
      "text/plain": [
       "<re.Match object; span=(0, 3), match='kom'>"
      ]
     },
     "execution_count": 77,
     "metadata": {},
     "output_type": "execute_result"
    }
   ],
   "source": [
    "### ? for 1 occurance\n",
    "re.match(\"kom?\",script1)"
   ]
  },
  {
   "cell_type": "code",
   "execution_count": 83,
   "id": "df8b54cc",
   "metadata": {},
   "outputs": [
    {
     "data": {
      "text/plain": [
       "<re.Match object; span=(0, 40), match='komal Patel is a Coder. It is a good Pro'>"
      ]
     },
     "execution_count": 83,
     "metadata": {},
     "output_type": "execute_result"
    }
   ],
   "source": [
    "### * for 0 occurance\n",
    "re.match(\".*Prod*\",script1)"
   ]
  },
  {
   "cell_type": "code",
   "execution_count": 84,
   "id": "4350894d",
   "metadata": {},
   "outputs": [
    {
     "data": {
      "text/plain": [
       "<re.Match object; span=(0, 42), match='komal Patel is a Coder. It is a good Proff'>"
      ]
     },
     "execution_count": 84,
     "metadata": {},
     "output_type": "execute_result"
    }
   ],
   "source": [
    "### * for more occurance\n",
    "re.match(\".*Prof*\",script1)"
   ]
  },
  {
   "cell_type": "code",
   "execution_count": 136,
   "id": "ed17ba84",
   "metadata": {},
   "outputs": [
    {
     "data": {
      "text/plain": [
       "<re.Match object; span=(0, 0), match=''>"
      ]
     },
     "execution_count": 136,
     "metadata": {},
     "output_type": "execute_result"
    }
   ],
   "source": [
    "re.match(\"m*\",script1)"
   ]
  },
  {
   "cell_type": "code",
   "execution_count": 86,
   "id": "dfb243f3",
   "metadata": {},
   "outputs": [
    {
     "data": {
      "text/plain": [
       "<re.Match object; span=(0, 4), match='koma'>"
      ]
     },
     "execution_count": 86,
     "metadata": {},
     "output_type": "execute_result"
    }
   ],
   "source": [
    "### + for 1 occurance\n",
    "re.match(\"koma+\",script1)"
   ]
  },
  {
   "cell_type": "code",
   "execution_count": 88,
   "id": "7547aef5",
   "metadata": {},
   "outputs": [
    {
     "data": {
      "text/plain": [
       "<re.Match object; span=(0, 4), match='aaaa'>"
      ]
     },
     "execution_count": 88,
     "metadata": {},
     "output_type": "execute_result"
    }
   ],
   "source": [
    "### + more than one occurance\n",
    "re.match(\"a+\",script5)"
   ]
  },
  {
   "cell_type": "code",
   "execution_count": 98,
   "id": "57711460",
   "metadata": {},
   "outputs": [
    {
     "data": {
      "text/plain": [
       "<re.Match object; span=(0, 23), match='komal Patel is a Coder.'>"
      ]
     },
     "execution_count": 98,
     "metadata": {},
     "output_type": "execute_result"
    }
   ],
   "source": [
    "### \\ for including the special character\n",
    "re.match(r\".*r\\.\",script1)"
   ]
  },
  {
   "cell_type": "code",
   "execution_count": 105,
   "id": "425e37ca",
   "metadata": {},
   "outputs": [
    {
     "data": {
      "text/plain": [
       "<re.Match object; span=(0, 25), match='aaaabbbbbbrrrbbbaaaaaa!!!'>"
      ]
     },
     "execution_count": 105,
     "metadata": {},
     "output_type": "execute_result"
    }
   ],
   "source": [
    "re.match(r\".*!?\",script5)"
   ]
  },
  {
   "cell_type": "code",
   "execution_count": 110,
   "id": "b5f3313b",
   "metadata": {},
   "outputs": [
    {
     "data": {
      "text/plain": [
       "<re.Match object; span=(0, 49), match='komal Patel is a Coder. It is a good Proffession.>"
      ]
     },
     "execution_count": 110,
     "metadata": {},
     "output_type": "execute_result"
    }
   ],
   "source": [
    "### ^ \n",
    "re.match(\"^k.*\",script1)"
   ]
  },
  {
   "cell_type": "code",
   "execution_count": 124,
   "id": "3bae71e7",
   "metadata": {},
   "outputs": [
    {
     "data": {
      "text/plain": [
       "<re.Match object; span=(24, 25), match='!'>"
      ]
     },
     "execution_count": 124,
     "metadata": {},
     "output_type": "execute_result"
    }
   ],
   "source": [
    "### $\n",
    "re.search(r\"!$\",script5)"
   ]
  },
  {
   "cell_type": "code",
   "execution_count": 131,
   "id": "f6c2de57",
   "metadata": {},
   "outputs": [
    {
     "data": {
      "text/plain": [
       "<re.Match object; span=(43, 49), match='ssion.'>"
      ]
     },
     "execution_count": 131,
     "metadata": {},
     "output_type": "execute_result"
    }
   ],
   "source": [
    "re.search(\"ssion\\.$\",script1)"
   ]
  },
  {
   "cell_type": "code",
   "execution_count": 134,
   "id": "316e1258",
   "metadata": {},
   "outputs": [
    {
     "data": {
      "text/plain": [
       "<re.Match object; span=(0, 6), match='komal '>"
      ]
     },
     "execution_count": 134,
     "metadata": {},
     "output_type": "execute_result"
    }
   ],
   "source": [
    "### {}\n",
    "re.match(\".{6}\",script1)"
   ]
  },
  {
   "cell_type": "code",
   "execution_count": 143,
   "id": "44c2bea3",
   "metadata": {},
   "outputs": [
    {
     "data": {
      "text/plain": [
       "<re.Match object; span=(0, 4), match='koma'>"
      ]
     },
     "execution_count": 143,
     "metadata": {},
     "output_type": "execute_result"
    }
   ],
   "source": [
    "### | and ()\n",
    "re.match(\"(kom.|aa)\",script1)"
   ]
  },
  {
   "cell_type": "code",
   "execution_count": 142,
   "id": "2f8f5a14",
   "metadata": {},
   "outputs": [
    {
     "data": {
      "text/plain": [
       "<re.Match object; span=(0, 4), match='aaaa'>"
      ]
     },
     "execution_count": 142,
     "metadata": {},
     "output_type": "execute_result"
    }
   ],
   "source": [
    "re.match(\"(kom|aa*)\",script5)"
   ]
  },
  {
   "cell_type": "code",
   "execution_count": 174,
   "id": "42b9f4a8",
   "metadata": {},
   "outputs": [
    {
     "data": {
      "text/plain": [
       "<re.Match object; span=(0, 46), match='12 is a number and it is multiple of 1,2,3,4,6'>"
      ]
     },
     "execution_count": 174,
     "metadata": {},
     "output_type": "execute_result"
    }
   ],
   "source": [
    "### []\n",
    "re.match(r\"[1-7][2-6].*[1-9]\",script2)"
   ]
  },
  {
   "cell_type": "markdown",
   "id": "bd7de0b9",
   "metadata": {},
   "source": [
    "### Special Sequesnce"
   ]
  },
  {
   "cell_type": "code",
   "execution_count": 145,
   "id": "efa238f4",
   "metadata": {},
   "outputs": [
    {
     "data": {
      "text/plain": [
       "<re.Match object; span=(0, 3), match='kom'>"
      ]
     },
     "execution_count": 145,
     "metadata": {},
     "output_type": "execute_result"
    }
   ],
   "source": [
    "### \\A Matches the pattern from starting\n",
    "re.match(\"\\Akom\",script1)"
   ]
  },
  {
   "cell_type": "code",
   "execution_count": 160,
   "id": "bfc93341",
   "metadata": {},
   "outputs": [
    {
     "data": {
      "text/plain": [
       "<re.Match object; span=(1, 4), match='ain'>"
      ]
     },
     "execution_count": 160,
     "metadata": {},
     "output_type": "execute_result"
    }
   ],
   "source": [
    "### \\b Matche the patter in every word\n",
    "re.search(r\"ain\\b\",script6)"
   ]
  },
  {
   "cell_type": "markdown",
   "id": "46b2572a",
   "metadata": {},
   "source": [
    "### Use of \\b"
   ]
  },
  {
   "cell_type": "code",
   "execution_count": 226,
   "id": "8ef03567",
   "metadata": {},
   "outputs": [
    {
     "name": "stdout",
     "output_type": "stream",
     "text": [
      "['al@gmail.com', 'bc@gmail.com', 'in@gmail.com']\n",
      "['al@gmail.com', 'in@gmail.com']\n"
     ]
    }
   ],
   "source": [
    "demo_script = \"komal@gmail.com abc@gmail.comabc jatin@gmail.com\"\n",
    "a = re.findall(r\"..@gmail.com\",demo_script)\n",
    "b = re.findall(r\"..@gmail.com\\b\",demo_script)\n",
    "print(a)\n",
    "print(b)"
   ]
  },
  {
   "cell_type": "code",
   "execution_count": 161,
   "id": "40b7158d",
   "metadata": {},
   "outputs": [
    {
     "data": {
      "text/plain": [
       "<re.Match object; span=(25, 30), match='ssion'>"
      ]
     },
     "execution_count": 161,
     "metadata": {},
     "output_type": "execute_result"
    }
   ],
   "source": [
    "### \\B\n",
    "re.search(r\"\\Bssion\",script6)"
   ]
  },
  {
   "cell_type": "code",
   "execution_count": 165,
   "id": "52967de9",
   "metadata": {},
   "outputs": [
    {
     "data": {
      "text/plain": [
       "<re.Match object; span=(0, 4), match='12 i'>"
      ]
     },
     "execution_count": 165,
     "metadata": {},
     "output_type": "execute_result"
    }
   ],
   "source": [
    "### \\d\n",
    "re.search(r\"\\d\",script2)"
   ]
  },
  {
   "cell_type": "code",
   "execution_count": 175,
   "id": "0a2d426f",
   "metadata": {},
   "outputs": [
    {
     "data": {
      "text/plain": [
       "['1', '2', '1', '2', '3', '4', '6']"
      ]
     },
     "execution_count": 175,
     "metadata": {},
     "output_type": "execute_result"
    }
   ],
   "source": [
    "re.findall(r\"\\d\",script2)"
   ]
  },
  {
   "cell_type": "code",
   "execution_count": 177,
   "id": "47201e85",
   "metadata": {},
   "outputs": [
    {
     "data": {
      "text/plain": [
       "['', '', ' is a number and it is multiple of ', ',', ',', ',', ',', '']"
      ]
     },
     "execution_count": 177,
     "metadata": {},
     "output_type": "execute_result"
    }
   ],
   "source": [
    "re.split(r\"\\d\",script2)"
   ]
  },
  {
   "cell_type": "code",
   "execution_count": 185,
   "id": "44693e7d",
   "metadata": {},
   "outputs": [
    {
     "data": {
      "text/plain": [
       "<re.Match object; span=(2, 3), match=' '>"
      ]
     },
     "execution_count": 185,
     "metadata": {},
     "output_type": "execute_result"
    }
   ],
   "source": [
    "### \\D\n",
    "re.search(r\"\\D\",script2)"
   ]
  },
  {
   "cell_type": "code",
   "execution_count": 187,
   "id": "f732160a",
   "metadata": {},
   "outputs": [
    {
     "data": {
      "text/plain": [
       "<re.Match object; span=(2, 3), match=' '>"
      ]
     },
     "execution_count": 187,
     "metadata": {},
     "output_type": "execute_result"
    }
   ],
   "source": [
    "### \\s\n",
    "re.search(r\"\\s\",script2)"
   ]
  },
  {
   "cell_type": "code",
   "execution_count": 188,
   "id": "8402abe6",
   "metadata": {},
   "outputs": [
    {
     "data": {
      "text/plain": [
       "[' ', ' ', ' ', ' ', ' ', ' ', ' ', ' ', ' ']"
      ]
     },
     "execution_count": 188,
     "metadata": {},
     "output_type": "execute_result"
    }
   ],
   "source": [
    "re.findall(r\"\\s\",script1)"
   ]
  },
  {
   "cell_type": "code",
   "execution_count": 191,
   "id": "333127e9",
   "metadata": {},
   "outputs": [
    {
     "data": {
      "text/plain": [
       "<re.Match object; span=(9, 10), match='k'>"
      ]
     },
     "execution_count": 191,
     "metadata": {},
     "output_type": "execute_result"
    }
   ],
   "source": [
    "### \\S\n",
    "re.search(r\"\\S\",script7)"
   ]
  },
  {
   "cell_type": "code",
   "execution_count": 200,
   "id": "2b33a1ed",
   "metadata": {},
   "outputs": [
    {
     "data": {
      "text/plain": [
       "<re.Match object; span=(0, 8), match='Henrey23'>"
      ]
     },
     "execution_count": 200,
     "metadata": {},
     "output_type": "execute_result"
    }
   ],
   "source": [
    "### \\w alpha num is allowed space is not allowed\n",
    "re.search(r\"\\w\\w\\w\\w\\w\\w\\w\\w\", script8)"
   ]
  },
  {
   "cell_type": "code",
   "execution_count": 201,
   "id": "4c4ccfa8",
   "metadata": {},
   "outputs": [
    {
     "data": {
      "text/plain": [
       "<re.Match object; span=(8, 9), match=' '>"
      ]
     },
     "execution_count": 201,
     "metadata": {},
     "output_type": "execute_result"
    }
   ],
   "source": [
    "### \\W opposite of \\w\n",
    "re.search(r\"\\W\",script8)"
   ]
  },
  {
   "cell_type": "code",
   "execution_count": 209,
   "id": "74de4b2a",
   "metadata": {},
   "outputs": [
    {
     "data": {
      "text/plain": [
       "<re.Match object; span=(43, 49), match='ssion.'>"
      ]
     },
     "execution_count": 209,
     "metadata": {},
     "output_type": "execute_result"
    }
   ],
   "source": [
    "### \\z matches the last character\n",
    "re.search(r\"ssion.\\Z\",script1)"
   ]
  },
  {
   "cell_type": "markdown",
   "id": "abe5c7c7",
   "metadata": {},
   "source": [
    "### Finding the email"
   ]
  },
  {
   "cell_type": "code",
   "execution_count": 216,
   "id": "5c43b0df",
   "metadata": {},
   "outputs": [
    {
     "data": {
      "text/plain": [
       "['@gmail.com', '@gmail.com', '@gmail.com', '@yahoo.com', '@yahoo.com']"
      ]
     },
     "execution_count": 216,
     "metadata": {},
     "output_type": "execute_result"
    }
   ],
   "source": [
    "re.findall(r\"(@gmail.com|@yahoo.com)\",script4)"
   ]
  },
  {
   "cell_type": "code",
   "execution_count": 219,
   "id": "cec42752",
   "metadata": {},
   "outputs": [
    {
     "data": {
      "text/plain": [
       "<re.Match object; span=(5, 15), match='@gmail.com'>"
      ]
     },
     "execution_count": 219,
     "metadata": {},
     "output_type": "execute_result"
    }
   ],
   "source": [
    "re.search(r\"(@gmail.com\\b|@yahoo.com\\b)\",script4)"
   ]
  },
  {
   "cell_type": "code",
   "execution_count": null,
   "id": "19168cf1",
   "metadata": {},
   "outputs": [],
   "source": []
  }
 ],
 "metadata": {
  "kernelspec": {
   "display_name": "Python 3 (ipykernel)",
   "language": "python",
   "name": "python3"
  },
  "language_info": {
   "codemirror_mode": {
    "name": "ipython",
    "version": 3
   },
   "file_extension": ".py",
   "mimetype": "text/x-python",
   "name": "python",
   "nbconvert_exporter": "python",
   "pygments_lexer": "ipython3",
   "version": "3.11.5"
  }
 },
 "nbformat": 4,
 "nbformat_minor": 5
}
