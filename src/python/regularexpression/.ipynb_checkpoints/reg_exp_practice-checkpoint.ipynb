{
 "cells": [
  {
   "cell_type": "code",
   "execution_count": 60,
   "id": "239dd1fe",
   "metadata": {},
   "outputs": [],
   "source": [
    "import re"
   ]
  },
  {
   "cell_type": "markdown",
   "id": "578126ff",
   "metadata": {},
   "source": [
    "## Pattern Matching"
   ]
  },
  {
   "cell_type": "code",
   "execution_count": 147,
   "id": "72fe2b29",
   "metadata": {},
   "outputs": [],
   "source": [
    "## This Section holds the script.\n",
    "script1 = \"komal Patel is a Coder. It is a good Proffession.\"\n",
    "script2 = \"12 is a number and it is multiple of 1,2,3,4,6\"\n",
    "script3 = \" This line starts with space.\"\n",
    "script4 = \"komal@gmail.com narami@gmail.com valkari@gmail.com daman@yahoo.com kabir@yahoo.com\"\n",
    "script5 = \"aaaabbbbbbrrrbbbaaaaaa!!!\"\n",
    "script6 = \"rain pain main mundain passion profassion\""
   ]
  },
  {
   "cell_type": "code",
   "execution_count": 72,
   "id": "24e10014",
   "metadata": {},
   "outputs": [
    {
     "name": "stdout",
     "output_type": "stream",
     "text": [
      "<re.Match object; span=(0, 1), match='k'>\n"
     ]
    },
    {
     "data": {
      "text/plain": [
       "'k'"
      ]
     },
     "execution_count": 72,
     "metadata": {},
     "output_type": "execute_result"
    }
   ],
   "source": [
    "### .\n",
    "### syntax : re.match(pattern,text)\n",
    "match = re.match(\".\", script1)\n",
    "print(match)\n",
    "## Accessing element from Match object\n",
    "match[0]"
   ]
  },
  {
   "cell_type": "markdown",
   "id": "21efb538",
   "metadata": {},
   "source": [
    "### Metacharacter"
   ]
  },
  {
   "cell_type": "code",
   "execution_count": 76,
   "id": "9657d294",
   "metadata": {},
   "outputs": [
    {
     "data": {
      "text/plain": [
       "<re.Match object; span=(0, 0), match=''>"
      ]
     },
     "execution_count": 76,
     "metadata": {},
     "output_type": "execute_result"
    }
   ],
   "source": [
    "### ? for 0 occurnce\n",
    "re.match(\"p?\",script1)"
   ]
  },
  {
   "cell_type": "code",
   "execution_count": 78,
   "id": "712b787e",
   "metadata": {},
   "outputs": [
    {
     "data": {
      "text/plain": [
       "<re.Match object; span=(0, 2), match='ko'>"
      ]
     },
     "execution_count": 78,
     "metadata": {},
     "output_type": "execute_result"
    }
   ],
   "source": [
    "re.match(\"kol?\",script1)"
   ]
  },
  {
   "cell_type": "code",
   "execution_count": 77,
   "id": "c59fadb7",
   "metadata": {},
   "outputs": [
    {
     "data": {
      "text/plain": [
       "<re.Match object; span=(0, 3), match='kom'>"
      ]
     },
     "execution_count": 77,
     "metadata": {},
     "output_type": "execute_result"
    }
   ],
   "source": [
    "### ? for 1 occurance\n",
    "re.match(\"kom?\",script1)"
   ]
  },
  {
   "cell_type": "code",
   "execution_count": 83,
   "id": "b9838847",
   "metadata": {},
   "outputs": [
    {
     "data": {
      "text/plain": [
       "<re.Match object; span=(0, 40), match='komal Patel is a Coder. It is a good Pro'>"
      ]
     },
     "execution_count": 83,
     "metadata": {},
     "output_type": "execute_result"
    }
   ],
   "source": [
    "### * for 0 occurance\n",
    "re.match(\".*Prod*\",script1)"
   ]
  },
  {
   "cell_type": "code",
   "execution_count": 84,
   "id": "97e84b8c",
   "metadata": {},
   "outputs": [
    {
     "data": {
      "text/plain": [
       "<re.Match object; span=(0, 42), match='komal Patel is a Coder. It is a good Proff'>"
      ]
     },
     "execution_count": 84,
     "metadata": {},
     "output_type": "execute_result"
    }
   ],
   "source": [
    "### * for more occurance\n",
    "re.match(\".*Prof*\",script1)"
   ]
  },
  {
   "cell_type": "code",
   "execution_count": 136,
   "id": "b302a20f",
   "metadata": {},
   "outputs": [
    {
     "data": {
      "text/plain": [
       "<re.Match object; span=(0, 0), match=''>"
      ]
     },
     "execution_count": 136,
     "metadata": {},
     "output_type": "execute_result"
    }
   ],
   "source": [
    "re.match(\"m*\",script1)"
   ]
  },
  {
   "cell_type": "code",
   "execution_count": 86,
   "id": "de705587",
   "metadata": {},
   "outputs": [
    {
     "data": {
      "text/plain": [
       "<re.Match object; span=(0, 4), match='koma'>"
      ]
     },
     "execution_count": 86,
     "metadata": {},
     "output_type": "execute_result"
    }
   ],
   "source": [
    "### + for 1 occurance\n",
    "re.match(\"koma+\",script1)"
   ]
  },
  {
   "cell_type": "code",
   "execution_count": 88,
   "id": "934f6c7f",
   "metadata": {},
   "outputs": [
    {
     "data": {
      "text/plain": [
       "<re.Match object; span=(0, 4), match='aaaa'>"
      ]
     },
     "execution_count": 88,
     "metadata": {},
     "output_type": "execute_result"
    }
   ],
   "source": [
    "### + more than one occurance\n",
    "re.match(\"a+\",script5)"
   ]
  },
  {
   "cell_type": "code",
   "execution_count": 98,
   "id": "a188cc6b",
   "metadata": {},
   "outputs": [
    {
     "data": {
      "text/plain": [
       "<re.Match object; span=(0, 23), match='komal Patel is a Coder.'>"
      ]
     },
     "execution_count": 98,
     "metadata": {},
     "output_type": "execute_result"
    }
   ],
   "source": [
    "### \\ for including the special character\n",
    "re.match(r\".*r\\.\",script1)"
   ]
  },
  {
   "cell_type": "code",
   "execution_count": 105,
   "id": "0db3fbcd",
   "metadata": {},
   "outputs": [
    {
     "data": {
      "text/plain": [
       "<re.Match object; span=(0, 25), match='aaaabbbbbbrrrbbbaaaaaa!!!'>"
      ]
     },
     "execution_count": 105,
     "metadata": {},
     "output_type": "execute_result"
    }
   ],
   "source": [
    "re.match(r\".*!?\",script5)"
   ]
  },
  {
   "cell_type": "code",
   "execution_count": 110,
   "id": "1a584c1d",
   "metadata": {},
   "outputs": [
    {
     "data": {
      "text/plain": [
       "<re.Match object; span=(0, 49), match='komal Patel is a Coder. It is a good Proffession.>"
      ]
     },
     "execution_count": 110,
     "metadata": {},
     "output_type": "execute_result"
    }
   ],
   "source": [
    "### ^ \n",
    "re.match(\"^k.*\",script1)"
   ]
  },
  {
   "cell_type": "code",
   "execution_count": 124,
   "id": "6b1a2f02",
   "metadata": {},
   "outputs": [
    {
     "data": {
      "text/plain": [
       "<re.Match object; span=(24, 25), match='!'>"
      ]
     },
     "execution_count": 124,
     "metadata": {},
     "output_type": "execute_result"
    }
   ],
   "source": [
    "### $\n",
    "re.search(r\"!$\",script5)"
   ]
  },
  {
   "cell_type": "code",
   "execution_count": 131,
   "id": "152bac99",
   "metadata": {},
   "outputs": [
    {
     "data": {
      "text/plain": [
       "<re.Match object; span=(43, 49), match='ssion.'>"
      ]
     },
     "execution_count": 131,
     "metadata": {},
     "output_type": "execute_result"
    }
   ],
   "source": [
    "re.search(\"ssion\\.$\",script1)"
   ]
  },
  {
   "cell_type": "code",
   "execution_count": 134,
   "id": "e13ab3a7",
   "metadata": {},
   "outputs": [
    {
     "data": {
      "text/plain": [
       "<re.Match object; span=(0, 6), match='komal '>"
      ]
     },
     "execution_count": 134,
     "metadata": {},
     "output_type": "execute_result"
    }
   ],
   "source": [
    "### {}\n",
    "re.match(\".{6}\",script1)"
   ]
  },
  {
   "cell_type": "code",
   "execution_count": 143,
   "id": "5bc13346",
   "metadata": {},
   "outputs": [
    {
     "data": {
      "text/plain": [
       "<re.Match object; span=(0, 4), match='koma'>"
      ]
     },
     "execution_count": 143,
     "metadata": {},
     "output_type": "execute_result"
    }
   ],
   "source": [
    "### | and ()\n",
    "re.match(\"(kom.|aa)\",script1)"
   ]
  },
  {
   "cell_type": "code",
   "execution_count": 142,
   "id": "f31dcb49",
   "metadata": {},
   "outputs": [
    {
     "data": {
      "text/plain": [
       "<re.Match object; span=(0, 4), match='aaaa'>"
      ]
     },
     "execution_count": 142,
     "metadata": {},
     "output_type": "execute_result"
    }
   ],
   "source": [
    "re.match(\"(kom|aa*)\",script5)"
   ]
  },
  {
   "cell_type": "code",
   "execution_count": 174,
   "id": "466a1f4e",
   "metadata": {},
   "outputs": [
    {
     "data": {
      "text/plain": [
       "<re.Match object; span=(0, 46), match='12 is a number and it is multiple of 1,2,3,4,6'>"
      ]
     },
     "execution_count": 174,
     "metadata": {},
     "output_type": "execute_result"
    }
   ],
   "source": [
    "### []\n",
    "re.match(r\"[1-7][2-6].*[1-9]\",script2)"
   ]
  },
  {
   "cell_type": "markdown",
   "id": "1640e202",
   "metadata": {},
   "source": [
    "### Special Sequesnce"
   ]
  },
  {
   "cell_type": "code",
   "execution_count": 145,
   "id": "834041c4",
   "metadata": {},
   "outputs": [
    {
     "data": {
      "text/plain": [
       "<re.Match object; span=(0, 3), match='kom'>"
      ]
     },
     "execution_count": 145,
     "metadata": {},
     "output_type": "execute_result"
    }
   ],
   "source": [
    "### \\A Matches the pattern from starting\n",
    "re.match(\"\\Akom\",script1)"
   ]
  },
  {
   "cell_type": "code",
   "execution_count": 160,
   "id": "b77b5215",
   "metadata": {},
   "outputs": [
    {
     "data": {
      "text/plain": [
       "<re.Match object; span=(1, 4), match='ain'>"
      ]
     },
     "execution_count": 160,
     "metadata": {},
     "output_type": "execute_result"
    }
   ],
   "source": [
    "### \\b Matche the patter in every word\n",
    "re.search(r\"ain\\b\",script6)"
   ]
  },
  {
   "cell_type": "code",
   "execution_count": 161,
   "id": "35887a86",
   "metadata": {},
   "outputs": [
    {
     "data": {
      "text/plain": [
       "<re.Match object; span=(25, 30), match='ssion'>"
      ]
     },
     "execution_count": 161,
     "metadata": {},
     "output_type": "execute_result"
    }
   ],
   "source": [
    "### \\B\n",
    "re.search(r\"\\Bssion\",script6)"
   ]
  },
  {
   "cell_type": "code",
   "execution_count": 165,
   "id": "4a58495d",
   "metadata": {},
   "outputs": [
    {
     "data": {
      "text/plain": [
       "<re.Match object; span=(0, 4), match='12 i'>"
      ]
     },
     "execution_count": 165,
     "metadata": {},
     "output_type": "execute_result"
    }
   ],
   "source": [
    "### \\d\n",
    "re.search(r\"\\d\",script2)"
   ]
  },
  {
   "cell_type": "code",
   "execution_count": 175,
   "id": "d7981617",
   "metadata": {},
   "outputs": [
    {
     "data": {
      "text/plain": [
       "['1', '2', '1', '2', '3', '4', '6']"
      ]
     },
     "execution_count": 175,
     "metadata": {},
     "output_type": "execute_result"
    }
   ],
   "source": [
    "re.findall(r\"\\d\",script2)"
   ]
  },
  {
   "cell_type": "code",
   "execution_count": 177,
   "id": "f01479d1",
   "metadata": {},
   "outputs": [
    {
     "data": {
      "text/plain": [
       "['', '', ' is a number and it is multiple of ', ',', ',', ',', ',', '']"
      ]
     },
     "execution_count": 177,
     "metadata": {},
     "output_type": "execute_result"
    }
   ],
   "source": [
    "re.split(r\"\\d\",script2)"
   ]
  },
  {
   "cell_type": "raw",
   "id": "6ece0fca",
   "metadata": {},
   "source": []
  }
 ],
 "metadata": {
  "kernelspec": {
   "display_name": "Python 3 (ipykernel)",
   "language": "python",
   "name": "python3"
  },
  "language_info": {
   "codemirror_mode": {
    "name": "ipython",
    "version": 3
   },
   "file_extension": ".py",
   "mimetype": "text/x-python",
   "name": "python",
   "nbconvert_exporter": "python",
   "pygments_lexer": "ipython3",
   "version": "3.11.5"
  }
 },
 "nbformat": 4,
 "nbformat_minor": 5
}
